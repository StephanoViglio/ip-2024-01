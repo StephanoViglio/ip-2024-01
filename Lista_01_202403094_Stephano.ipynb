{
  "nbformat": 4,
  "nbformat_minor": 0,
  "metadata": {
    "colab": {
      "provenance": [],
      "authorship_tag": "ABX9TyNyT5DOSkAyqbpSHNsDgdcb",
      "include_colab_link": true
    },
    "kernelspec": {
      "name": "python3",
      "display_name": "Python 3"
    },
    "language_info": {
      "name": "python"
    }
  },
  "cells": [
    {
      "cell_type": "markdown",
      "metadata": {
        "id": "view-in-github",
        "colab_type": "text"
      },
      "source": [
        "<a href=\"https://colab.research.google.com/github/StephanoViglio/ip-2024-01/blob/main/Lista_01_202403094_Stephano.ipynb\" target=\"_parent\"><img src=\"https://colab.research.google.com/assets/colab-badge.svg\" alt=\"Open In Colab\"/></a>"
      ]
    },
    {
      "cell_type": "code",
      "execution_count": null,
      "metadata": {
        "id": "GQ4HKHLyIlO4"
      },
      "outputs": [],
      "source": [
        "Questão 01:\n",
        "\n",
        "Leia (nota1, nota2, nota3);\n",
        "MEDIA <- x, x = (nota1 + nota2 + nota3)/3\n",
        "Se x >= 6, então\n",
        "  Imprima (x);\n",
        "  Imprima (\"APROVADO\");\n",
        "Senão\n",
        "  Imprima (x)\n",
        "  Imprima (\"REPROVADO\");\n",
        "'/n'\n"
      ]
    },
    {
      "cell_type": "code",
      "source": [
        "Questão 02:\n",
        "\n",
        "Leia (numeroJogos)\n",
        "x ← 0\n",
        "\n",
        "Enquanto (x < numeroJogos)\n",
        "\n",
        "  Com publicoTotal = T;\n",
        "  Com porcentagemPopular = P;\n",
        "  Com porcentagemGeral = G;\n",
        "  Com porcentagemArquibancada = A;\n",
        "  Com porcentagemCadeiras = C;\n",
        "\n",
        "  Leia (publicoTotal, porcentagemPopular, porcentagemGeral, porcentagemArquibancada, porcentagemCadeiras)\n",
        "\n",
        "  rendaTotal = y = (1*T*P + 5*T*G + 10*T*A + 20*T*C)/(100);\n",
        "\n",
        "  Imprima (\"A RENDA DO JOGO N. x E = \" + y)\n",
        "  x ← x + 1;\n"
      ],
      "metadata": {
        "id": "THoCx3bRLxMT"
      },
      "execution_count": null,
      "outputs": []
    },
    {
      "cell_type": "code",
      "source": [
        "Questão 03:\n",
        "\n",
        "Leia (n1);\n",
        "Leia (n2);\n",
        "Leia (n3);\n",
        "\n",
        "Imprima (n1 + n2 + n3 + \", \" + (n1 + n2 + n3)*(n1 + n2 + n3));\n",
        "\n",
        "Se n1 > 9, então\n",
        "  Imprime (\"Digito Invalido\")\n",
        "Se n2 > 9, então\n",
        "  Imprime (\"Digito Invalido\")\n",
        "Se n3 > 9, então\n",
        "  Imprime (\"Digito Invalido\")\n",
        "\n",
        "\n"
      ],
      "metadata": {
        "id": "OVpc1KSgOoUw"
      },
      "execution_count": null,
      "outputs": []
    },
    {
      "cell_type": "code",
      "source": [
        "Questão 04:\n",
        "\n",
        "Leia (valorSalarioMinimo, quantkWGasto);\n",
        "\n",
        "Se 100Kw = 70/100 * (valorSalarioMinimo), então valorkW = 0,007 * (valorSalarioMinimo);\n",
        "\n",
        "consumoResidencia = (valorkW)*(quantkWGasto);\n",
        "novoValorConsumo = (consumoResidencia)*0.9\n",
        "\n",
        "Imprima (\"Custo por kW: R$\" + valorkW);\n",
        "Imprima (\"Custo do consumo: R$\" + consumoResidencia);\n",
        "Imprima (\"Custo com desconto: R$\" + novoValorConsumo);"
      ],
      "metadata": {
        "id": "Gfplue4nxHx0"
      },
      "execution_count": null,
      "outputs": []
    },
    {
      "cell_type": "code",
      "source": [
        "Questão 05:\n",
        "\n",
        "u = contaCliente;\n",
        "x = metrosCubicosGastos;\n",
        "v = valorConsumo;\n",
        "tipoConsumidor = ou R, ou C ou I;\n",
        "\n",
        "Sendo consumoAguaPorMetrosCubicos = (v)/(x);\n",
        "\n",
        "vR = 5 + 0.05*x;\n",
        "\n",
        "Se x <= 80, então vC = 500;\n",
        "  Senão, vC = 500 + 0.25*(x - 80);\n",
        "\n",
        "Se x <= 100, então vI = 800;\n",
        "  Senão, vI = 800 + 0.04*(x - 100);\n",
        "\n",
        "Leia (contaCliente, consumoAguaPorMetrosCubicos, tipoConsumidor);\n",
        "\n",
        "Se tipoConsumidor = R, então v = vR;\n",
        "Se tipoConsumidor = C, então v = vC;\n",
        "Se tipoConsumidor = I, então v = vI;\n",
        "\n",
        "Imprima (\"Conta = \" + u);\n",
        "Imprima (\"Valor da Conta = \" + v);\n",
        "'\\n'\n"
      ],
      "metadata": {
        "id": "myF5_nGzxHwr"
      },
      "execution_count": null,
      "outputs": []
    },
    {
      "cell_type": "code",
      "source": [
        "Questão 06:\n",
        "\n",
        "Leia (numeroTemperaturas);\n",
        "N ← 0\n",
        "\n",
        "Enquanto (N < numeroTemperaturas);\n",
        "\n",
        "  Leia (valorFahrenheit);\n",
        "\n",
        "  Com x = valorCelsius e y = valorFahrenheit;\n",
        "\n",
        "  Com x = (5)*(y - 32)/(9)\n",
        "\n",
        "  Imprima (x:4:2 + \" FAHRENHEIT EQUIVALE A \" + y:4:2 + \" CELSIUS\");\n",
        "  N ← N + 1;\n"
      ],
      "metadata": {
        "id": "ok30Hq6e7cMR"
      },
      "execution_count": null,
      "outputs": []
    },
    {
      "cell_type": "code",
      "source": [
        "Questão 07:\n",
        "\n",
        "Leia (valorFahrenheit);\n",
        "Leia (quantChuvaPolegadas);\n",
        "\n",
        "Sendo valorFahrenheit = w e valorCelsius = x, tem-se: x = (5)*(w - 32)/(9);\n",
        "Sendo quantChuvaPolegadas = z e valorChuvaMili = y, tem-se: y = (25.4)*(z);\n",
        "\n",
        "Imprima (\"O VALOR EM CELSIUS = \" + x:4:2);\n",
        "Imprima (\"A QUANTIDADE EM CELSIUS = \" + y:4:2);\n",
        "'\\n'"
      ],
      "metadata": {
        "id": "9XDh3dJ_8ydE"
      },
      "execution_count": null,
      "outputs": []
    },
    {
      "cell_type": "code",
      "source": [
        "Questão 08:\n",
        "\n",
        "raioLata = r;\n",
        "alturaLata = a;\n",
        "\n",
        "Leia (raioLata);\n",
        "Leia (alturaLata);\n",
        "\n",
        "Com π = 3.14159;\n",
        "Com Ac = π*r²;\n",
        "Com Al = 2*π*r*a;\n",
        "Com At = 2*Ac + Al;\n",
        "Com E = x = 100*At;\n",
        "\n",
        "Imprima (\"O VALOR DO CUSTO E = \" + x);\n",
        "'\\n'\n",
        "\n"
      ],
      "metadata": {
        "id": "ZrJuQu6i_TLh"
      },
      "execution_count": null,
      "outputs": []
    },
    {
      "cell_type": "code",
      "source": [
        "Questão 09:\n",
        "\n",
        "Leia (A);\n",
        "Leia (B);\n",
        "Leia (C);\n",
        "\n",
        "Com x = (B² - 4*A*C);\n",
        "\n",
        "Imprima (\"O VALOR DE DELTA E = \" + x:4:2);\n",
        "'\\n'"
      ],
      "metadata": {
        "id": "DDjHpDciA_2J"
      },
      "execution_count": null,
      "outputs": []
    },
    {
      "cell_type": "code",
      "source": [
        "Questão 10:\n",
        "\n",
        "Leia (a);\n",
        "Leia (b);\n",
        "Leia (c);\n",
        "Leia (d);\n",
        "\n",
        "Com x = (a*d - b*c);\n",
        "\n",
        "Imprima (\"O VALOR DO DETERMINANTE E = \" + x:4:2);\n",
        "'\\n'\n"
      ],
      "metadata": {
        "id": "9u9QHYkoE_pQ"
      },
      "execution_count": null,
      "outputs": []
    },
    {
      "cell_type": "code",
      "source": [
        "Questão 11:\n",
        "\n",
        "numero = x;\n",
        "\n",
        "Leia (numero);\n",
        "\n",
        "Com x = 5*n + r e x = 3*m + s;\n",
        "\n",
        "Se n inteiro e m inteiro e r = 0 e s = 0, então\n",
        "  Imprima (\"O NUMERO E DIVISIVEL\");\n",
        "Senão\n",
        "  Imprima (\"O NUMERO NAO E DIVISIVEL\");\n",
        "  '\\n'\n"
      ],
      "metadata": {
        "id": "jMOodFxyGvd1"
      },
      "execution_count": null,
      "outputs": []
    },
    {
      "cell_type": "code",
      "source": [
        "Questão 12:\n",
        "\n",
        "numeroHoras = h;\n",
        "\n",
        "Leia (numeroHoras);\n",
        "\n",
        "Com h = (3*q + r), sendo q e r inteiro;\n",
        "\n",
        "valorAluguel = x = (10*q + 5*q);\n",
        "\n",
        "Imprima (\"O VALOR A PAGA E = \" + x);\n",
        "'\\n'\n",
        "\n"
      ],
      "metadata": {
        "id": "YF4MS58AHs-0"
      },
      "execution_count": null,
      "outputs": []
    },
    {
      "cell_type": "code",
      "source": [
        "Questão 13:\n",
        "\n",
        "valorNota = x;\n",
        "\n",
        "Leia (x:2:1);\n",
        "\n",
        "Se x >= 9 e x <= 10, então\n",
        "  Imprima (\"NOTA = \" + x:2:1, \"CONCEITO = A\");\n",
        "  '\\n'\n",
        "\n",
        "Se x < 9 e x >= 7.5, então\n",
        "  Imprima (\"NOTA = \" + x:2:1, \"CONCEITO = B\");\n",
        "  '\\n'\n",
        "\n",
        "Se x < 7.5 e x >= 6, então\n",
        "  Imprima (\"NOTA = \" + x:2:1, \"CONCEITO = C\");\n",
        "  Imprima '\\n'\n",
        "\n",
        "Se x < 6 e x >= 0, então\n",
        "  Imprima (\"NOTA = \" + x:2:1, \"CONCEITO = D\");\n",
        "  '\\n'\n",
        "\n",
        "\n"
      ],
      "metadata": {
        "id": "7mKK9AnmwP0U"
      },
      "execution_count": null,
      "outputs": []
    },
    {
      "cell_type": "code",
      "source": [
        "Questão 14:\n",
        "\n",
        "Com h = alturaPiramide;\n",
        "Com a = arestaHexagono;\n",
        "\n",
        "Leia (h:3:2);\n",
        "Leia (a:3:2);\n",
        "\n",
        "Com volumePiramide = x = (3*a²*√3*h)/(6);\n",
        "\n",
        "Imprima (\"O VOLUME DA PIRAMIDE E = \" + x:5:2 + \"METROS CUBICOS\");\n",
        "'\\n'"
      ],
      "metadata": {
        "id": "mdNBBphZzXXG"
      },
      "execution_count": null,
      "outputs": []
    },
    {
      "cell_type": "code",
      "source": [],
      "metadata": {
        "id": "7DqpxZ3j6593"
      },
      "execution_count": null,
      "outputs": []
    },
    {
      "cell_type": "code",
      "source": [
        "Questão 15:\n",
        "\n",
        "Se N > 5 e N < 2000, então\n",
        "\n",
        "  Se N % 2 = 0, então\n",
        "\n",
        "    Com N = numeroInteiro;\n",
        "    Leia (numeroInteiro);\n",
        "\n",
        "    Enquanto (x <= N)\n",
        "    x ← 2\n",
        "\n",
        "    Imprima (x + \"^2 = \" + (x)*(x));\n",
        "    x ← x + 2\n",
        "\n",
        "  Senão,\n",
        "\n",
        "    Com N = numeroInteiro;\n",
        "    Leia (numeroInteiro);\n",
        "\n",
        "    Enquanto (x <= (N - 1))\n",
        "    x ← 2\n",
        "\n",
        "    Imprima (x + \"^2 = \" + (x)*(x));\n",
        "    x ← x + 2\n",
        "\n",
        "\n"
      ],
      "metadata": {
        "id": "q-Ru7MbA0oaI"
      },
      "execution_count": null,
      "outputs": []
    },
    {
      "cell_type": "code",
      "source": [
        "Questão 16:\n",
        "\n",
        "Com y = salarioFuncionario;\n",
        "\n",
        "Leia (y:5:2);\n",
        "\n",
        "Se y <= 300, então x = (1.5*y);\n",
        "\n",
        "Imprima (\"SALARIO COM REAJUSTE = \" + x:5:2);\n",
        "Imprima ('\\n');\n",
        "\n",
        "Se y > 300, então x = (1.3*y);\n",
        "\n",
        "Imprima (\"SALARIO COM REAJUSTE = \" + x:5:2);\n",
        "'\\n'\n"
      ],
      "metadata": {
        "id": "BU0r6X524tg6"
      },
      "execution_count": null,
      "outputs": []
    },
    {
      "cell_type": "code",
      "source": [
        "Questão 17:\n",
        "\n",
        "Leia (x, y);\n",
        "\n",
        "Se x = 2*n + r, com n inteiro e r = 0, então\n",
        "\n",
        "Enquanto (w <= y)\n",
        "w ← 0;\n",
        "\n",
        "Com sequenciaPares = (x + 2*w)\n",
        "\n",
        "Imprima (sequenciaPares)\n",
        "w ← w + 1;\n",
        "\n",
        "Senão\n",
        "\n",
        "Imprima (\"O PRIMEIRO NUMERO NAO E PAR\");\n",
        "'\\n'\n"
      ],
      "metadata": {
        "id": "9Ewc08Su5isO"
      },
      "execution_count": null,
      "outputs": []
    },
    {
      "cell_type": "code",
      "source": [
        "Questão 18:\n",
        "\n",
        "Com valorInicial = a1;\n",
        "Com razaoPA = r;\n",
        "Com numeroElementos = n;\n",
        "\n",
        "Leia (valorInicial, razaoPA, numeroElementos);\n",
        "\n",
        "Com somaPA = S = (2*a1 + r*(n - 1))*(n)/2;\n",
        "\n",
        "Imprima (somaPA);\n",
        "'\\n'"
      ],
      "metadata": {
        "id": "UiEZYFqL8ptQ"
      },
      "execution_count": null,
      "outputs": []
    },
    {
      "cell_type": "code",
      "source": [
        "Questão 19:\n",
        "\n",
        "Com numeroInteiroPositivo = N;\n",
        "\n",
        "Leia (numeroInteiroPositivo);\n",
        "\n",
        "Se N > 1, então\n",
        "\n",
        "  Enquanto (x <= N)\n",
        "  x ← 1;\n",
        "\n",
        "  fracoes = (1/x)\n",
        "\n",
        "  somaFracoes = S = fracoes;\n",
        "  somaFracoes ← somaFracoes + (1/x);\n",
        "  x ← x + 1;\n",
        "\n",
        "  Imprima (S:7:6)\n",
        "\n",
        "Senão\n",
        "\n",
        "  Imprima (\"Numero invalido!\")"
      ],
      "metadata": {
        "id": "1w6XAw9N-wn3"
      },
      "execution_count": null,
      "outputs": []
    },
    {
      "cell_type": "code",
      "source": [
        "Questão 20:\n",
        "\n",
        "Com h = tempoHoras;\n",
        "Com m = tempoMinutos;\n",
        "com s = tempoSegundos;\n",
        "\n",
        "Leia (tempoHoras);\n",
        "Leia (tempoMinutos);\n",
        "Leia (tempoSegundos);\n",
        "\n",
        "tempoTotalSegundos = x = (3600*h + 60*m + 1*s);\n",
        "\n",
        "Imprima (\"O TEMPO EM SEGUNDOS E = \" + x);\n",
        "'\\n'"
      ],
      "metadata": {
        "id": "fi_Xf5NoBkQw"
      },
      "execution_count": null,
      "outputs": []
    },
    {
      "cell_type": "markdown",
      "source": [],
      "metadata": {
        "id": "9xxiVOGxLs3d"
      }
    }
  ]
}